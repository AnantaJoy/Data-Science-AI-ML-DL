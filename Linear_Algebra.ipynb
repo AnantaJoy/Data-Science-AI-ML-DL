{
  "nbformat": 4,
  "nbformat_minor": 0,
  "metadata": {
    "colab": {
      "name": "Linear Algebra.ipynb",
      "provenance": [],
      "authorship_tag": "ABX9TyPvCzraHKyVYsidkcDtysPD",
      "include_colab_link": true
    },
    "kernelspec": {
      "name": "python3",
      "display_name": "Python 3"
    },
    "language_info": {
      "name": "python"
    }
  },
  "cells": [
    {
      "cell_type": "markdown",
      "metadata": {
        "id": "view-in-github",
        "colab_type": "text"
      },
      "source": [
        "<a href=\"https://colab.research.google.com/github/AnantaJoy/Data-Science-AI-ML-DL/blob/main/Linear_Algebra.ipynb\" target=\"_parent\"><img src=\"https://colab.research.google.com/assets/colab-badge.svg\" alt=\"Open In Colab\"/></a>"
      ]
    },
    {
      "cell_type": "markdown",
      "source": [
        "####  Linear Algebra is a branch of mathematics that is wiedly used throughout science and engineering.Yet because linear algebra is a form of contimous rather than discreate mathematics.A good understanding of linear algebra is essential for understanding and working with many machine learnig algorithms, especially deep learning algorithms.[1]\n",
        "\n",
        "The fundamental concepts of i) **Scalar**, ii) **Vector**, iii) **Matrices** and iv) **Tensors** are neeeded to understand linear algebra.\n",
        "* **Scalar**\n",
        "\n",
        "[Built-in scalar types](https://numpy.org/doc/stable/reference/arrays.scalars.html#built-in-scalar-types)\n",
        "\n",
        "\n",
        "\n"
      ],
      "metadata": {
        "id": "nLLxQ5vX_ZH4"
      }
    },
    {
      "cell_type": "code",
      "execution_count": 8,
      "metadata": {
        "id": "vO41i8RG_QtY"
      },
      "outputs": [],
      "source": [
        "# import libraries\n",
        "import numpy as np\n",
        "import torch"
      ]
    },
    {
      "cell_type": "code",
      "source": [
        "# scalar(No dimention, only values)\n",
        "age = 22\n",
        "# vector(Array of numbers, 1 dimensional)\n",
        "list1 = [12,13,23]\n",
        "arr1 = np.array(list1)\n",
        "# matrix (A 2-D array of numvers)\n",
        "list2 = [[7,7],[0,4]]\n",
        "arr2 = np.array(list2)\n",
        "print(\"arr1\", arr1, \" is \", arr1.ndim, \"dimensional array\")\n",
        "print(\"arr2\", arr2, \"is \", arr2.ndim, \"dimensional array\")\n",
        "\n",
        "# tensor (Multidimensional matrix )\n",
        "tensor=np.array([[[1,2,3],[4,5,6],[7,8,9]],[[10,11,12],[13,14,15],[16,17,18]],[[19,20,21],[22,23,24],[25,26,27]]])\n",
        "tensor1 = torch.tensor([[1, 2, 3], [4, 5, 6]])\n",
        "print(type(tensor))\n",
        "print(type(tensor1))"
      ],
      "metadata": {
        "id": "JZ2-0fHYB4W9"
      },
      "execution_count": null,
      "outputs": []
    }
  ]
}