{
  "nbformat": 4,
  "nbformat_minor": 0,
  "metadata": {
    "colab": {
      "name": "Introduction to Python.ipynb",
      "provenance": [],
      "authorship_tag": "ABX9TyNMmkK1G4Xb9QRPkfOWhvKU",
      "include_colab_link": true
    },
    "kernelspec": {
      "name": "python3",
      "display_name": "Python 3"
    },
    "language_info": {
      "name": "python"
    }
  },
  "cells": [
    {
      "cell_type": "markdown",
      "metadata": {
        "id": "view-in-github",
        "colab_type": "text"
      },
      "source": [
        "<a href=\"https://colab.research.google.com/github/AnantaJoy/Data-Science-AI-ML-DL/blob/main/Introduction_to_Python.ipynb\" target=\"_parent\"><img src=\"https://colab.research.google.com/assets/colab-badge.svg\" alt=\"Open In Colab\"/></a>"
      ]
    },
    {
      "cell_type": "markdown",
      "source": [
        "# **Write your first program in Python** \n",
        "\n",
        "`Hello World` in Python\n"
      ],
      "metadata": {
        "id": "i5kCF-wfVJ-l"
      }
    },
    {
      "cell_type": "code",
      "execution_count": 1,
      "metadata": {
        "colab": {
          "base_uri": "https://localhost:8080/"
        },
        "id": "T70jgjD5VDdE",
        "outputId": "0e558482-6108-4d23-cddf-ea45a568550c"
      },
      "outputs": [
        {
          "output_type": "stream",
          "name": "stdout",
          "text": [
            "Hello, My first program in python!!\n",
            "Ahoy!\n"
          ]
        }
      ],
      "source": [
        "print(\"Hello, My first program in python!!\")\n",
        "print('Ahoy!')"
      ]
    },
    {
      "cell_type": "code",
      "source": [
        ""
      ],
      "metadata": {
        "id": "CnZz9csUVyO4"
      },
      "execution_count": null,
      "outputs": []
    }
  ]
}