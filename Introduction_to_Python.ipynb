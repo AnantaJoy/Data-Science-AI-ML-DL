{
  "nbformat": 4,
  "nbformat_minor": 0,
  "metadata": {
    "colab": {
      "name": "Introduction to Python.ipynb",
      "provenance": [],
      "collapsed_sections": [],
      "authorship_tag": "ABX9TyNmpLqkZ0T9UdGjWanzkMYZ",
      "include_colab_link": true
    },
    "kernelspec": {
      "name": "python3",
      "display_name": "Python 3"
    },
    "language_info": {
      "name": "python"
    }
  },
  "cells": [
    {
      "cell_type": "markdown",
      "metadata": {
        "id": "view-in-github",
        "colab_type": "text"
      },
      "source": [
        "<a href=\"https://colab.research.google.com/github/AnantaJoy/Data-Science-AI-ML-DL/blob/main/Introduction_to_Python.ipynb\" target=\"_parent\"><img src=\"https://colab.research.google.com/assets/colab-badge.svg\" alt=\"Open In Colab\"/></a>"
      ]
    },
    {
      "cell_type": "markdown",
      "source": [
        "# **Write your first program in Python** \n",
        "\n",
        "`Hello World` in Python\n"
      ],
      "metadata": {
        "id": "i5kCF-wfVJ-l"
      }
    },
    {
      "cell_type": "code",
      "execution_count": null,
      "metadata": {
        "id": "T70jgjD5VDdE"
      },
      "outputs": [],
      "source": [
        "print(\"Hello, My first program in python!!\")\n",
        "print('Ahoy!')"
      ]
    },
    {
      "cell_type": "code",
      "source": [
        ""
      ],
      "metadata": {
        "id": "CnZz9csUVyO4"
      },
      "execution_count": 1,
      "outputs": []
    },
    {
      "cell_type": "markdown",
      "source": [
        "# **Vaiables in Pyhton**\n",
        "\n",
        "variable is a container that holds a value and store in memory"
      ],
      "metadata": {
        "id": "LXTsepoqW79m"
      }
    },
    {
      "cell_type": "code",
      "source": [
        "age = 21\n",
        "height = 170\n",
        "weight = 67\n",
        "print(age)\n",
        "print(height)\n",
        "print(weight)"
      ],
      "metadata": {
        "colab": {
          "base_uri": "https://localhost:8080/"
        },
        "id": "ZWlz749iXT9e",
        "outputId": "9578b623-e4a6-415e-ba6a-5a74b397fac2"
      },
      "execution_count": 3,
      "outputs": [
        {
          "output_type": "stream",
          "name": "stdout",
          "text": [
            "21\n",
            "170\n",
            "67\n"
          ]
        }
      ]
    },
    {
      "cell_type": "code",
      "source": [
        ""
      ],
      "metadata": {
        "id": "7IYHXhwKX2N2"
      },
      "execution_count": null,
      "outputs": []
    }
  ]
}